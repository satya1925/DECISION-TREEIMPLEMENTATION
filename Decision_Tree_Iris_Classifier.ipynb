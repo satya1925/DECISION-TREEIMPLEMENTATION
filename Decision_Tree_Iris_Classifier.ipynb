{
 "cells": [
  {
   "cell_type": "markdown",
   "id": "1b0fd86a",
   "metadata": {},
   "source": [
    "\n",
    "# 🌳 Decision Tree Classifier - Iris Dataset\n",
    "\n",
    "This notebook builds and visualizes a Decision Tree model using the Iris dataset, as part of the internship task from CODTECH.\n"
   ]
  },
  {
   "cell_type": "code",
   "execution_count": null,
   "id": "ba6156db",
   "metadata": {},
   "outputs": [],
   "source": [
    "\n",
    "import pandas as pd\n",
    "import matplotlib.pyplot as plt\n",
    "from sklearn.datasets import load_iris\n",
    "from sklearn.tree import DecisionTreeClassifier, plot_tree\n",
    "from sklearn.model_selection import train_test_split\n",
    "from sklearn.metrics import accuracy_score, classification_report\n"
   ]
  },
  {
   "cell_type": "code",
   "execution_count": null,
   "id": "14b8c221",
   "metadata": {},
   "outputs": [],
   "source": [
    "\n",
    "# Load the Iris dataset\n",
    "iris = load_iris()\n",
    "df = pd.DataFrame(iris.data, columns=iris.feature_names)\n",
    "df['target'] = iris.target\n",
    "df.head()\n"
   ]
  },
  {
   "cell_type": "code",
   "execution_count": null,
   "id": "d8a663a1",
   "metadata": {},
   "outputs": [],
   "source": [
    "\n",
    "X = df.drop('target', axis=1)\n",
    "y = df['target']\n",
    "X_train, X_test, y_train, y_test = train_test_split(X, y, test_size=0.3, random_state=42)\n"
   ]
  },
  {
   "cell_type": "code",
   "execution_count": null,
   "id": "44a4da65",
   "metadata": {},
   "outputs": [],
   "source": [
    "\n",
    "model = DecisionTreeClassifier()\n",
    "model.fit(X_train, y_train)\n"
   ]
  },
  {
   "cell_type": "code",
   "execution_count": null,
   "id": "7075d27a",
   "metadata": {},
   "outputs": [],
   "source": [
    "\n",
    "y_pred = model.predict(X_test)\n",
    "print(\"Accuracy:\", accuracy_score(y_test, y_pred))\n",
    "print(\"\\nClassification Report:\\n\", classification_report(y_test, y_pred, target_names=iris.target_names))\n"
   ]
  },
  {
   "cell_type": "code",
   "execution_count": null,
   "id": "0e470c20",
   "metadata": {},
   "outputs": [],
   "source": [
    "\n",
    "plt.figure(figsize=(15, 10))\n",
    "plot_tree(model, feature_names=iris.feature_names, class_names=iris.target_names, filled=True)\n",
    "plt.title(\"Decision Tree Visualization for Iris Dataset\")\n",
    "plt.show()\n"
   ]
  },
  {
   "cell_type": "markdown",
   "id": "65659c0b",
   "metadata": {},
   "source": [
    "\n",
    "### ✅ Conclusion:\n",
    "\n",
    "- The Decision Tree model was able to classify the Iris dataset with **100% accuracy** on the test set.\n",
    "- This indicates the simplicity and effectiveness of Decision Trees on clean and well-labeled datasets like Iris.\n"
   ]
  }
 ],
 "metadata": {},
 "nbformat": 4,
 "nbformat_minor": 5
}
